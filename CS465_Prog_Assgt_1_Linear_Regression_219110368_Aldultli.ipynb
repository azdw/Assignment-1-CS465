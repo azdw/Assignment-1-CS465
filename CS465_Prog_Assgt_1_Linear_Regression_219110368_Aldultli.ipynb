{
  "cells": [
    {
      "cell_type": "markdown",
      "metadata": {
        "id": "l3gToCSy3BoH"
      },
      "source": [
        "## CS465: Machine Learning (Term 212)\n",
        "## Programming Assignment No. 1 (Linear Regression)\n",
        "**Posted: Sunday 20th February 2022** \n",
        "\n",
        "**Due Date: Sunday 27th February 2022 (Through LMS @ 10:00 PM)** "
      ]
    },
    {
      "cell_type": "markdown",
      "metadata": {
        "id": "JiKGxvnv3hrN"
      },
      "source": [
        "## Table of Contents\n",
        "Linear regression with a toy\n",
        "1. Matrices and Math\n",
        "2. Building a model from scratch\n",
        "3. Building a model with statsmodel and sklearn\n",
        "4. Simple linear regression with automobile data\n",
        "5. Multiple linear regression with automobile data\n",
        "6. Interpreting results\n"
      ]
    },
    {
      "cell_type": "markdown",
      "metadata": {
        "id": "vg02tf8E3rUu"
      },
      "source": [
        "## Part 1: Linear regression with a toy\n",
        "We first examine a toy problem, focusing our efforts on fitting a linear model to a small dataset with three observations. Each observation consists of one predictor $ \\mathbb{x}^{(i)} $ and one response $ \\mathbb{x}^{(i)} \\; \\mbox{for} \\; i = 1, 2, 3 $,\n",
        "\n",
        "$$ \n",
        "\\{\\mathbb{x}^{(i)}, \\mathbb{y}^{(i)} \\} = \\{(\\mathbb{x}^{(1)}, \\mathbb{yx}^{(1)}), (\\mathbb{x}^{(2)}, \\mathbb{y}^{(2)}), (\\mathbb{x}^{(3)}, \\mathbb{y}^{(3)}) \\} \n",
        "$$\n",
        "\n",
        "To be very concrete, let us set the values of the predictors and responses.\n",
        "$$ \n",
        "\\{\\mathbb{x}^{(i)}, \\mathbb{y}^{(i)} \\} = \\{ (1, 2), (2, 2), (3, 4) \\}\n",
        "$$\n",
        "\n",
        "There is no line of the form $ \\mathbb{w}_{0} + \\mathbb{w}_{1} \\mathbb{x} = \\mathbb{y} \\; $ that passes through all three observations, since the data is not collinear. Thus our aim is to find the line that best fits these observations in the **least-squares sense**, as discussed in lecture."
      ]
    },
    {
      "cell_type": "markdown",
      "metadata": {
        "id": "dRc8AVGO4riP"
      },
      "source": [
        "## Matrices and Math \n",
        "Suspending reality, suppose there is a line $ \\mathbb{w}_{0} + \\mathbb{w}_{1} \\mathbb{x} = \\mathbb{y} \\; $ that passes through all three observations. Then we'd solve:\n",
        "$$\n",
        "\\mathbb{w}_{0} + \\mathbb{w}_{1} \\mathbb{x} = 2 \\\\\n",
        "\\mathbb{w}_{0} + \\mathbb{w}_{1} \\mathbb{x} = 2 \\\\\n",
        "\\mathbb{w}_{0} + \\mathbb{w}_{1} \\mathbb{x} = 4\n",
        "$$\n",
        "\n",
        "for $ \\mathbb{w}_{0}$ and $ \\mathbb{w}_{1} $, the intercept and slope of the desired line. Let's write these equations in matrix form. The left hand sides of the above equations can be written as:\n",
        "\n",
        "$$\n",
        "\\begin{bmatrix}\n",
        "1 \\mathbb{w}_{0} + 1 \\mathbb{w}_{1} \\\\\n",
        "1 \\mathbb{w}_{0} + 2 \\mathbb{w}_{1} \\\\\n",
        "1 \\mathbb{w}_{0} + 3 \\mathbb{w}_{1} \n",
        "\\end{bmatrix}\n",
        "\\begin{bmatrix} 1 \\\\\n",
        "1 \\\\\n",
        "1 \n",
        " \\end{bmatrix} =\n",
        " \\begin{bmatrix} 1 \\\\\n",
        "1 \\\\\n",
        "1 \n",
        " \\end{bmatrix} \n",
        " \\mathbb{w}_{0}\n",
        " \\begin{bmatrix} 1 \\\\\n",
        "2 \\\\\n",
        "3 \n",
        " \\end{bmatrix} \n",
        " \\mathbb{w}_{1}\n",
        " =\n",
        " \\begin{bmatrix} 1 & 1\\\\\n",
        "1 & 2\\\\\n",
        "1 & 3 \n",
        " \\end{bmatrix} \n",
        " \\begin{bmatrix} \\mathbb{w}_{0}\\\\\n",
        "\\mathbb{w}_{1}\n",
        " \\end{bmatrix} = \\mathbf{X} \\cdot \\mathbf{w}\n",
        "$$\n",
        "\n",
        "while the right hand side is simply the vector:\n",
        "$$\n",
        "\\mathbf{y} = \n",
        "\\begin{bmatrix} \n",
        "2\\\\\n",
        "2\\\\\n",
        "4 \n",
        " \\end{bmatrix} \n",
        "$$\n",
        "Thus we have the matrix equation $ \\mathbf{X} \\cdot \\mathbf{w} = \\mathbf{y} $ where:\n",
        "\n",
        "$$\n",
        "\\mathbf{X} = \\begin{bmatrix}\n",
        "1 & 1 \\\\\n",
        "1 & 2 \\\\\n",
        "1 & 3\n",
        "\\end{bmatrix}, \n",
        "\\mathbf{w} = \\begin{bmatrix}\n",
        "\\mathbf{w}_{0}\\\\\n",
        "\\mathbf{w}_{0}\n",
        "\\end{bmatrix},  \\mbox{and} \\; \\; \n",
        "\\mathbf{y} = \\begin{bmatrix}\n",
        "2 \\\\\n",
        "2 \\\\\n",
        "4\n",
        "\\end{bmatrix}\n",
        "$$\n",
        "\n",
        "To find the best possible solution to this linear system that has no solution, we need to solve the normal equations, or:\n",
        "\n",
        "$$\n",
        "\\mathbf{X}^{T}\\mathbf{X} \\mathbf{w} = \\mathbf{X}^{T} \\mathbf{y}\n",
        "$$\n",
        "\n",
        "If $ \\mathbf{X}^{T}\\mathbf{X} $ is invertible then the solution is:\n",
        "\n",
        "$$\n",
        "\\mathbf{w} = \\left( \\mathbf{X}^{T}\\mathbf{X} \\right)^{-1} \\mathbf{X}^{T} \\mathbf{y}\n",
        "$$\n",
        "\n",
        "**Question 1:** What if the toy problem included a second predictor variable? How would $ \\mathbf{X} $, $ \\mathbf{w} $, and $ \\mathbf{y} $ change, if at all? Would anything else change? Create a new markdown cell below and explain.\n",
        "\n",
        "**Answer 1:**"
      ]
    },
    {
      "attachments": {},
      "cell_type": "markdown",
      "metadata": {},
      "source": [
        "If the toy problem had another factor that could affect the mpg, the design matrix X would include two columns instead of one, with each row representing a different data point and having two values: the weight of the car and the horsepower. Hence, X would have a shape of (n, 2), where n represents the total number of data points."
      ]
    },
    {
      "cell_type": "markdown",
      "metadata": {
        "id": "RNHRps6F_lqi"
      },
      "source": [
        "## Part 1: Building a model from scratch\n",
        "We now solve the normal equations to find the best fit solution to our toy problem. Note that we have constructed our toy problem so that XTX is invertible. Let's import the needed modules. Note that we've imported statsmodels and sklearn in this below, which we'll use to build regression models."
      ]
    },
    {
      "cell_type": "code",
      "execution_count": 2,
      "metadata": {
        "colab": {
          "base_uri": "https://localhost:8080/"
        },
        "id": "GDIyjaoX3A9F",
        "outputId": "6fd8f729-3272-4437-8092-a829e798f99b"
      },
      "outputs": [],
      "source": [
        "import numpy as np\n",
        "import pandas as pd\n",
        "import seaborn as sns\n",
        "from sklearn import linear_model, datasets\n",
        "import matplotlib.pyplot as plt\n",
        "import statsmodels.api as sm\n",
        "%matplotlib inline"
      ]
    },
    {
      "cell_type": "markdown",
      "metadata": {
        "id": "m5rDg6M3_t9J"
      },
      "source": [
        "The snippets of code below solves the equations using the observed predictors and responses, which we'll call the training data set. Let's walk through the code."
      ]
    },
    {
      "cell_type": "code",
      "execution_count": 3,
      "metadata": {
        "id": "6_9kHplL_xP5"
      },
      "outputs": [
        {
          "name": "stdout",
          "output_type": "stream",
          "text": [
            "(3,)\n"
          ]
        }
      ],
      "source": [
        "# Observed predictors (features x_{1})\n",
        "x_train = np.array([1, 2, 3])\n",
        "print(x_train.shape)"
      ]
    },
    {
      "cell_type": "code",
      "execution_count": 7,
      "metadata": {
        "id": "GkCrPq9j_z05"
      },
      "outputs": [
        {
          "name": "stdout",
          "output_type": "stream",
          "text": [
            "(3, 1)\n"
          ]
        }
      ],
      "source": [
        "x_train = x_train.reshape(len(x_train),1)\n",
        "# Check dimensions \n",
        "print(x_train.shape)"
      ]
    },
    {
      "cell_type": "code",
      "execution_count": 8,
      "metadata": {
        "id": "zNpCZlSW_3SS"
      },
      "outputs": [
        {
          "name": "stdout",
          "output_type": "stream",
          "text": [
            "(3, 1)\n"
          ]
        }
      ],
      "source": [
        "# Observed responses\n",
        "y_train = np.array([2, 2, 4])\n",
        "y_train = y_train.reshape(len(y_train),1)\n",
        "print(y_train.shape)"
      ]
    },
    {
      "cell_type": "code",
      "execution_count": 9,
      "metadata": {
        "id": "F1oyVqqR_9j6"
      },
      "outputs": [
        {
          "name": "stdout",
          "output_type": "stream",
          "text": [
            "[[1. 1.]\n",
            " [1. 2.]\n",
            " [1. 3.]] (3, 2)\n"
          ]
        }
      ],
      "source": [
        "# Build matrix X by concatenating predictors and a column of ones\n",
        "n = x_train.shape[0]\n",
        "ones_col = np.ones((n, 1))\n",
        "X = np.concatenate((ones_col, x_train), axis=1)\n",
        "# Check X and dimensions\n",
        "print(X, X.shape)"
      ]
    },
    {
      "cell_type": "code",
      "execution_count": 10,
      "metadata": {
        "id": "NAr7BI8HABB5"
      },
      "outputs": [],
      "source": [
        "# Matrix X^{T} X\n",
        "LHS = np.dot(np.transpose(X), X)\n",
        "\n",
        "# Matrix X^{T} y\n",
        "RHS = np.dot(np.transpose(X), y_train)"
      ]
    },
    {
      "cell_type": "code",
      "execution_count": 11,
      "metadata": {
        "id": "vwxj48GmAENh"
      },
      "outputs": [],
      "source": [
        "# Solution beta to normal equations, since LHS is invertible by toy construction\n",
        "ws = np.dot(np.linalg.inv(LHS), RHS)"
      ]
    },
    {
      "cell_type": "code",
      "execution_count": 12,
      "metadata": {
        "id": "S7kYYimOAHlJ"
      },
      "outputs": [
        {
          "name": "stdout",
          "output_type": "stream",
          "text": [
            "[0.66666667] [1.]\n"
          ]
        }
      ],
      "source": [
        "# Intercept: w_{0}\n",
        "w0 = ws[0]\n",
        "\n",
        "# Slope: : w_{1}\n",
        "w1 = ws[1]\n",
        "\n",
        "print(w0, w1)"
      ]
    },
    {
      "cell_type": "markdown",
      "metadata": {
        "id": "ARN5IBYcAS_B"
      },
      "source": [
        "**Question 2:** Turn the code from the above cells into a function, called **simple_linear_regression_fit**, that inputs the training data and returns $\\mathbb{w}_{0} $ and $ \\mathbb{w}_{1} $.\n",
        "\n",
        "To do this, copy and paste the code from the above cells below and adjust the code as needed, so that the training data becomes the input and the betas become the output.\n",
        "\n",
        "Check your function by calling it with the training data from above and printing out the w values."
      ]
    },
    {
      "cell_type": "code",
      "execution_count": 13,
      "metadata": {
        "id": "7tiNL51xARmy"
      },
      "outputs": [],
      "source": [
        "def simple_linear_regression_fit(x_train, y_train):\n",
        "    \n",
        "    # Reshape input data to ensure proper dimensions\n",
        "    x_train = x_train.reshape(len(x_train),1)\n",
        "    y_train = y_train.reshape(len(y_train),1)\n",
        "\n",
        "    # Build matrix X by concatenating predictors and a column of ones\n",
        "    n = x_train.shape[0]\n",
        "    ones_col = np.ones((n, 1))\n",
        "    X = np.concatenate((ones_col, x_train), axis=1)\n",
        "\n",
        "    # Matrix X^{T} X\n",
        "    LHS = np.dot(np.transpose(X), X)\n",
        "\n",
        "    # Matrix X^{T} y\n",
        "    RHS = np.dot(np.transpose(X), y_train)\n",
        "\n",
        "    # Solution beta to normal equations, since LHS is invertible by toy construction\n",
        "    ws = np.dot(np.linalg.inv(LHS), RHS)\n",
        "\n",
        "    # Intercept: w_{0}\n",
        "    w0 = ws[0]\n",
        "\n",
        "    # Slope: : w_{1}\n",
        "    w1 = ws[1]\n",
        "    \n",
        "    return w0, w1\n"
      ]
    },
    {
      "cell_type": "code",
      "execution_count": 14,
      "metadata": {},
      "outputs": [
        {
          "name": "stdout",
          "output_type": "stream",
          "text": [
            "w0: [0.66666667]\n",
            "w1: [1.]\n"
          ]
        }
      ],
      "source": [
        "x_train = np.array([1, 2, 3])\n",
        "y_train = np.array([2, 2, 4])\n",
        "w0, w1 = simple_linear_regression_fit(x_train, y_train)\n",
        "print(\"w0:\", w0)\n",
        "print(\"w1:\", w1)\n"
      ]
    },
    {
      "cell_type": "markdown",
      "metadata": {
        "id": "ROovtVlYApfD"
      },
      "source": [
        "**Question 3:** Plot the training data. Do the values of $\\mathbb{w}_{0} $ and $ \\mathbb{w}_{1} $ seem reasonable?\n",
        "\n",
        "Now write a lambda function **f** for the best fit line with \\mathbb{w}_{0} $ and \\mathbb{w}_{1} $, and plot the best fit line together with the training data."
      ]
    },
    {
      "cell_type": "code",
      "execution_count": 16,
      "metadata": {
        "id": "5QoCCyC6A3nL"
      },
      "outputs": [
        {
          "data": {
            "image/png": "[encoded data removed]",
            "text/plain": [
              "<Figure size 640x480 with 1 Axes>"
            ]
          },
          "metadata": {},
          "output_type": "display_data"
        },
        {
          "data": {
            "image/png": "[encoded data removed]",
            "text/plain": [
              "<Figure size 640x480 with 1 Axes>"
            ]
          },
          "metadata": {},
          "output_type": "display_data"
        }
      ],
      "source": [
        "# Answer 3: Your code here\n",
        "import matplotlib.pyplot as plt\n",
        "\n",
        "# Plot the training data\n",
        "plt.scatter(x_train, y_train)\n",
        "plt.show()\n",
        "\n",
        "# Define a lambda function for the best fit line\n",
        "f = lambda x: w0 + w1*x\n",
        "# Plot the training data\n",
        "plt.scatter(x_train, y_train)\n",
        "\n",
        "# Plot the best fit line\n",
        "x_plot = np.linspace(0, 4, 100) # Create 100 evenly spaced points between 0 and 4\n",
        "plt.plot(x_plot, f(x_plot), color='red')\n",
        "\n",
        "plt.show()\n",
        "\n"
      ]
    },
    {
      "cell_type": "markdown",
      "metadata": {
        "id": "iQW_SpHnBBE9"
      },
      "source": [
        "## Part 2: Building a model with **statsmodel** and **sklearn** packages"
      ]
    },
    {
      "cell_type": "markdown",
      "metadata": {
        "id": "fhd6NsMgBIxE"
      },
      "source": [
        "Now that we can concretely fit the training data from scratch, let's learn two Python packages to do it all for us: **statsmodels** and **scikit-learn** (sklearn). Our goal is to show how to implement simple linear regression with these packages. For an important sanity check, we compare the $\\mathbf{w}$ values from statsmodel and sklearn to the $\\mathbf{w}$  values that we found from above from scratch.\n",
        "\n",
        "For the purposes of this lab, statsmodels and sklearn do the same thing. More generally though, statsmodels tends to be easier for inference, whereas sklearn has machine-learning algorithms and is better for prediction.\n",
        "Below is the code for statsmodels.\n",
        "**Important Note:** **Statsmodels** does not by default include the column of ones in the X matrix, so we include it with **sm.add_constant**."
      ]
    },
    {
      "cell_type": "code",
      "execution_count": 18,
      "metadata": {
        "id": "BF9a-L10BbZ0"
      },
      "outputs": [
        {
          "name": "stdout",
          "output_type": "stream",
          "text": [
            "[[1. 1.]\n",
            " [1. 2.]\n",
            " [1. 3.]]\n",
            "(w0, w1) = (0.666667, 1.000000)\n"
          ]
        }
      ],
      "source": [
        "# Create the X matrix by appending a column of ones to x_train\n",
        "X = sm.add_constant(x_train)\n",
        "\n",
        "# This is the same matrix as in our scratch problem!\n",
        "print(X)\n",
        "\n",
        "# Build the OLS model (ordinary least squares) from the training data\n",
        "simple_lr_sm = sm.OLS(y_train, X)\n",
        "\n",
        "# Save regression info (parameters, etc) in results_simple_lr_sm\n",
        "results_simple_lr_sm = simple_lr_sm.fit()\n",
        "\n",
        "# Pull the beta parameters out from results_simple_lr_sm\n",
        "w0_sm = results_simple_lr_sm.params[0]\n",
        "w1_sm = results_simple_lr_sm.params[1]\n",
        "\n",
        "print(\"(w0, w1) = (%f, %f)\" %(w0_sm, w1_sm))"
      ]
    },
    {
      "cell_type": "markdown",
      "metadata": {
        "id": "RrfVmcMxBvxm"
      },
      "source": [
        "**Note:** Besides the $\\mathbf{w} $ parameters, **results_simple_lr_sm** contains a ton of other potentially useful information. Type **results_simple_lr_sm** and hit tab to see.\n",
        "\n"
      ]
    },
    {
      "cell_type": "markdown",
      "metadata": {
        "id": "7yfhm42-B6N-"
      },
      "source": [
        "## Simple linear regression  with **sklearn**\n",
        "\n"
      ]
    },
    {
      "cell_type": "code",
      "execution_count": 22,
      "metadata": {
        "id": "uAgJaDSHCEU3"
      },
      "outputs": [
        {
          "name": "stdout",
          "output_type": "stream",
          "text": [
            "(w0, w1) = (0.666667, 1.000000)\n"
          ]
        }
      ],
      "source": [
        "# Build the least squares model\n",
        "simple_lr_skl = linear_model.LinearRegression()\n",
        "\n",
        "# Reshape x_train to be a 2D array\n",
        "x_train = x_train.reshape(-1, 1)\n",
        "\n",
        "# Save regression info (parameters, etc) in results_simple_lr_skl \n",
        "results_simple_lr_skl  = simple_lr_skl.fit(x_train, y_train)\n",
        "\n",
        "# Pull the beta parameters out from results_simple_lr_skl\n",
        "w0_skl = results_simple_lr_skl.intercept_\n",
        "w1_skl = results_simple_lr_skl.coef_[0]\n",
        "\n",
        "print(\"(w0, w1) = (%f, %f)\" %(w0_skl, w1_skl))\n"
      ]
    },
    {
      "cell_type": "markdown",
      "metadata": {
        "id": "a43H3s2TCZn4"
      },
      "source": [
        "**Note:** We should feel pretty good about ourselves now, and we're ready to move on to a real problem!!!!\n",
        "\n"
      ]
    },
    {
      "cell_type": "markdown",
      "metadata": {
        "id": "lhV1zfQoCfrQ"
      },
      "source": [
        "## Part 3: Simple linear regression with automobile data\n",
        "\n",
        "**Important Note:** You may mount your Google drive and access the **mtcars.csv** from there or uplaod the file to Colab and access it from within (the **file will be deleted after the end of your Colab session!**)"
      ]
    },
    {
      "cell_type": "code",
      "execution_count": 3,
      "metadata": {
        "id": "TAK2YDlPCl3x"
      },
      "outputs": [
        {
          "data": {
            "text/html": [
              "<div>\n",
              "<style scoped>\n",
              "    .dataframe tbody tr th:only-of-type {\n",
              "        vertical-align: middle;\n",
              "    }\n",
              "\n",
              "    .dataframe tbody tr th {\n",
              "        vertical-align: top;\n",
              "    }\n",
              "\n",
              "    .dataframe thead th {\n",
              "        text-align: right;\n",
              "    }\n",
              "</style>\n",
              "<table border=\"1\" class=\"dataframe\">\n",
              "  <thead>\n",
              "    <tr style=\"text-align: right;\">\n",
              "      <th></th>\n",
              "      <th>model</th>\n",
              "      <th>mpg</th>\n",
              "      <th>cyl</th>\n",
              "      <th>disp</th>\n",
              "      <th>hp</th>\n",
              "      <th>drat</th>\n",
              "      <th>wt</th>\n",
              "      <th>qsec</th>\n",
              "      <th>vs</th>\n",
              "      <th>am</th>\n",
              "      <th>gear</th>\n",
              "      <th>carb</th>\n",
              "    </tr>\n",
              "  </thead>\n",
              "  <tbody>\n",
              "    <tr>\n",
              "      <th>0</th>\n",
              "      <td>Mazda RX4</td>\n",
              "      <td>21.0</td>\n",
              "      <td>6</td>\n",
              "      <td>160.0</td>\n",
              "      <td>110</td>\n",
              "      <td>3.90</td>\n",
              "      <td>2.620</td>\n",
              "      <td>16.46</td>\n",
              "      <td>0</td>\n",
              "      <td>1</td>\n",
              "      <td>4</td>\n",
              "      <td>4</td>\n",
              "    </tr>\n",
              "    <tr>\n",
              "      <th>1</th>\n",
              "      <td>Mazda RX4 Wag</td>\n",
              "      <td>21.0</td>\n",
              "      <td>6</td>\n",
              "      <td>160.0</td>\n",
              "      <td>110</td>\n",
              "      <td>3.90</td>\n",
              "      <td>2.875</td>\n",
              "      <td>17.02</td>\n",
              "      <td>0</td>\n",
              "      <td>1</td>\n",
              "      <td>4</td>\n",
              "      <td>4</td>\n",
              "    </tr>\n",
              "    <tr>\n",
              "      <th>2</th>\n",
              "      <td>Datsun 710</td>\n",
              "      <td>22.8</td>\n",
              "      <td>4</td>\n",
              "      <td>108.0</td>\n",
              "      <td>93</td>\n",
              "      <td>3.85</td>\n",
              "      <td>2.320</td>\n",
              "      <td>18.61</td>\n",
              "      <td>1</td>\n",
              "      <td>1</td>\n",
              "      <td>4</td>\n",
              "      <td>1</td>\n",
              "    </tr>\n",
              "    <tr>\n",
              "      <th>3</th>\n",
              "      <td>Hornet 4 Drive</td>\n",
              "      <td>21.4</td>\n",
              "      <td>6</td>\n",
              "      <td>258.0</td>\n",
              "      <td>110</td>\n",
              "      <td>3.08</td>\n",
              "      <td>3.215</td>\n",
              "      <td>19.44</td>\n",
              "      <td>1</td>\n",
              "      <td>0</td>\n",
              "      <td>3</td>\n",
              "      <td>1</td>\n",
              "    </tr>\n",
              "    <tr>\n",
              "      <th>4</th>\n",
              "      <td>Hornet Sportabout</td>\n",
              "      <td>18.7</td>\n",
              "      <td>8</td>\n",
              "      <td>360.0</td>\n",
              "      <td>175</td>\n",
              "      <td>3.15</td>\n",
              "      <td>3.440</td>\n",
              "      <td>17.02</td>\n",
              "      <td>0</td>\n",
              "      <td>0</td>\n",
              "      <td>3</td>\n",
              "      <td>2</td>\n",
              "    </tr>\n",
              "  </tbody>\n",
              "</table>\n",
              "</div>"
            ],
            "text/plain": [
              "               model   mpg  cyl   disp   hp  drat     wt   qsec  vs  am  gear  \\\n",
              "0          Mazda RX4  21.0    6  160.0  110  3.90  2.620  16.46   0   1     4   \n",
              "1      Mazda RX4 Wag  21.0    6  160.0  110  3.90  2.875  17.02   0   1     4   \n",
              "2         Datsun 710  22.8    4  108.0   93  3.85  2.320  18.61   1   1     4   \n",
              "3     Hornet 4 Drive  21.4    6  258.0  110  3.08  3.215  19.44   1   0     3   \n",
              "4  Hornet Sportabout  18.7    8  360.0  175  3.15  3.440  17.02   0   0     3   \n",
              "\n",
              "   carb  \n",
              "0     4  \n",
              "1     4  \n",
              "2     1  \n",
              "3     1  \n",
              "4     2  "
            ]
          },
          "execution_count": 3,
          "metadata": {},
          "output_type": "execute_result"
        }
      ],
      "source": [
        "# Using mtcars.csv from within Colab: MUST UPLOAD THE FILE FIRST!!!\n",
        "dfcars = pd.read_csv(\"./mtcars.csv\")\n",
        "dfcars = dfcars.rename(columns = {\"Unnamed: 0\":\"name\"})\n",
        "dfcars.head()"
      ]
    },
    {
      "cell_type": "code",
      "execution_count": 5,
      "metadata": {
        "id": "bbueetc9CrJo"
      },
      "outputs": [],
      "source": [
        "# Split into training set and testing set\n",
        "from sklearn.model_selection import train_test_split\n",
        "# Set random_state to get the same split every time\n",
        "traindf, testdf = train_test_split(dfcars, test_size=0.3, random_state=6)"
      ]
    },
    {
      "cell_type": "code",
      "execution_count": null,
      "metadata": {
        "id": "qhfdt1zoCuIp"
      },
      "outputs": [],
      "source": [
        "# Testing set is ~30% of the total data; training set is ~70%\n",
        "dfcars.shape, traindf.shape, testdf.shape"
      ]
    },
    {
      "cell_type": "markdown",
      "metadata": {
        "id": "IBNGmdRDCxgS"
      },
      "source": [
        "We need to choose the variables that we think will be good predictors for the dependent variable mpg. \n",
        "\n",
        "**Question 4:** Pick one variable to use as a predictor for simple linear regression. Create a markdown cell below and discuss your reasons. You may want to justify this with some visualizations. Is there a second variable you'd like to use as well, say for multiple linear regression with two predictors?\n",
        "\n",
        "**Answer 4:**"
      ]
    },
    {
      "attachments": {},
      "cell_type": "markdown",
      "metadata": {},
      "source": [
        "# Answer 4:\n",
        "For simple linear regression, I would choose \"wt\" (weight) as the predictor for \"mpg\" (miles per gallon). A scatter plot of \"mpg\" versus \"wt\" reveals a strong negative linear relationship between the two variables. As the weight of the car increases, the miles per gallon decreases. This makes sense as heavier cars generally require more fuel to operate.\n",
        "\n",
        "For multiple linear regression, I would choose \"wt\" and \"hp\" (horsepower) as predictors for \"mpg\". A scatter plot of \"mpg\" versus \"wt\" and \"hp\" reveals a strong negative relationship between \"mpg\" and \"wt\" as well as \"mpg\" and \"hp\". This makes sense as heavier cars with more powerful engines generally require more fuel to operate. Using both variables as predictors may provide a more accurate model for predicting \"mpg\"."
      ]
    },
    {
      "cell_type": "code",
      "execution_count": 7,
      "metadata": {
        "id": "yma6kJRPC4xh"
      },
      "outputs": [
        {
          "data": {
            "image/png": "[encoded data removed]",
            "text/plain": [
              "<Figure size 640x480 with 1 Axes>"
            ]
          },
          "metadata": {},
          "output_type": "display_data"
        },
        {
          "name": "stdout",
          "output_type": "stream",
          "text": [
            "Coefficient: -5.344471572722678\n",
            "Intercept: 37.28512616734204\n"
          ]
        }
      ],
      "source": [
        "# Answer 4: Your code (if any) here\n",
        "from sklearn.linear_model import LinearRegression\n",
        "\n",
        "# Load the data\n",
        "data = pd.read_csv('mtcars.csv')\n",
        "\n",
        "# Extract the predictor and response variables\n",
        "X = data['wt'].values.reshape(-1,1)\n",
        "y = data['mpg'].values.reshape(-1,1)\n",
        "\n",
        "# Create a scatter plot\n",
        "plt.scatter(X, y)\n",
        "plt.xlabel('Weight')\n",
        "plt.ylabel('Miles per gallon')\n",
        "plt.show()\n",
        "\n",
        "# Fit the model\n",
        "reg = LinearRegression().fit(X, y)\n",
        "\n",
        "# Print the coefficient and intercept\n",
        "print('Coefficient:', reg.coef_[0][0])\n",
        "print('Intercept:', reg.intercept_[0])"
      ]
    },
    {
      "attachments": {},
      "cell_type": "markdown",
      "metadata": {},
      "source": [
        "And here's the code for multiple linear regression:"
      ]
    },
    {
      "cell_type": "code",
      "execution_count": 8,
      "metadata": {},
      "outputs": [
        {
          "name": "stdout",
          "output_type": "stream",
          "text": [
            "Coefficients: [[-3.87783074 -0.03177295]]\n",
            "Intercept: 37.227270116447215\n"
          ]
        }
      ],
      "source": [
        "# Extract the predictor variables\n",
        "X = data[['wt', 'hp']].values\n",
        "y = data['mpg'].values.reshape(-1,1)\n",
        "\n",
        "# Fit the model\n",
        "reg = LinearRegression().fit(X, y)\n",
        "\n",
        "# Print the coefficients and intercept\n",
        "print('Coefficients:', reg.coef_)\n",
        "print('Intercept:', reg.intercept_[0])\n"
      ]
    },
    {
      "cell_type": "markdown",
      "metadata": {
        "id": "pYBnbWspC-qp"
      },
      "source": [
        "**Question 5:** With either sklearn or statsmodels, fit the training data using simple linear regression. Use the model to make mpg predictions on testing set.\n",
        "\n",
        "Plot the data and the prediction.\n",
        "\n",
        "Print out the mean squared error for the training set and the testing set and compare."
      ]
    },
    {
      "cell_type": "code",
      "execution_count": 10,
      "metadata": {
        "id": "dteMnZzHDEDJ"
      },
      "outputs": [],
      "source": [
        "# Answer 5: Your code here\n",
        "from sklearn.metrics import mean_squared_error\n",
        "from sklearn.model_selection import train_test_split\n",
        "\n",
        "\n",
        "# split the dataset into training and testing sets\n",
        "train_df, test_df = train_test_split(data, test_size=0.2, random_state=42)\n",
        "\n",
        "# 1. Define predictor and response for training set\n",
        "X_train = train_df[['wt']]\n",
        "y_train = train_df['mpg']\n",
        "\n",
        "# 2. Define predictor and response for testing set\n",
        "X_test = test_df[['wt']]\n",
        "y_test = test_df['mpg']\n",
        "\n",
        "\n"
      ]
    },
    {
      "cell_type": "code",
      "execution_count": 11,
      "metadata": {
        "id": "HQYxtzi9DK7p"
      },
      "outputs": [
        {
          "data": {
            "image/png": "[encoded data removed]",
            "text/plain": [
              "<Figure size 640x480 with 1 Axes>"
            ]
          },
          "metadata": {},
          "output_type": "display_data"
        },
        {
          "name": "stdout",
          "output_type": "stream",
          "text": [
            "Training set MSE:  7.7736977663875155\n",
            "Testing set MSE:  12.475985659918818\n"
          ]
        }
      ],
      "source": [
        "# Your code here\n",
        "# Create linear regression object with sklearn\n",
        "reg_model = LinearRegression()\n",
        "reg_model.fit(X_train, y_train)\n",
        "\n",
        "\n",
        "# Your code here\n",
        "# Train the model and make predictions\n",
        "y_pred = reg_model.predict(X_test)\n",
        "\n",
        "# 5. Plot the data and prediction\n",
        "plt.scatter(X_test, y_test, color='black')\n",
        "plt.plot(X_test, y_pred, color='blue', linewidth=3)\n",
        "plt.xlabel('Weight')\n",
        "plt.ylabel('Miles per Gallon')\n",
        "plt.title('Simple Linear Regression Model')\n",
        "plt.show()\n",
        "\n",
        "\n",
        "# Your code here\n",
        "# Print out coefficients\n",
        "\n",
        "# 6. Calculate mean squared error for training set and testing set\n",
        "train_mse = mean_squared_error(y_train, reg_model.predict(X_train))\n",
        "test_mse = mean_squared_error(y_test, y_pred)\n",
        "\n",
        "print(\"Training set MSE: \", train_mse)\n",
        "print(\"Testing set MSE: \", test_mse)"
      ]
    },
    {
      "cell_type": "code",
      "execution_count": 12,
      "metadata": {
        "id": "d4YW9WrMDSnh"
      },
      "outputs": [
        {
          "data": {
            "image/png": "[encoded data removed]",
            "text/plain": [
              "<Figure size 640x480 with 1 Axes>"
            ]
          },
          "metadata": {},
          "output_type": "display_data"
        }
      ],
      "source": [
        "# Your code here\n",
        "\n",
        "# Plot outputs\n",
        "plt.scatter(X_train, y_train, color='black')\n",
        "plt.plot(X_train, reg_model.predict(X_train), color='blue', linewidth=3)\n",
        "plt.xlabel('Weight')\n",
        "plt.ylabel('Miles per Gallon')\n",
        "plt.title('Simple Linear Regression Model - Training Set')\n",
        "plt.show()"
      ]
    },
    {
      "cell_type": "markdown",
      "metadata": {
        "id": "UauZ7q7BDWva"
      },
      "source": [
        "## Part 4: Multiple linear regression with automobile data"
      ]
    },
    {
      "attachments": {},
      "cell_type": "markdown",
      "metadata": {
        "id": "KwAFMWgTDbvq"
      },
      "source": [
        "**Question 6:** With either sklearn or statsmodels, fit the training data using multiple linear regression with two predictors. Use the model to make mpg predictions on testing set. Print out the mean squared error for the training set and the testing set and compare.\n",
        "\n",
        "How do these training and testing mean squared errors compare to those from the simple linear regression?\n",
        "\n",
        "Time permitting, repeat the training and testing with three predictors and calculate the mean squared errors. How do these compare to the errors from the one and two predictor models?"
      ]
    },
    {
      "cell_type": "code",
      "execution_count": 13,
      "metadata": {
        "id": "0sNveTS6DgQ6"
      },
      "outputs": [
        {
          "name": "stdout",
          "output_type": "stream",
          "text": [
            "Training set MSE (two predictors):  5.67650657881481\n",
            "Testing set MSE (two predictors):  8.474832262021078\n"
          ]
        }
      ],
      "source": [
        "# Answer 6: Your code here\n",
        "# 1. Define predictors and response for training set\n",
        "X_train = train_df[['wt', 'hp']]\n",
        "y_train = train_df['mpg']\n",
        "\n",
        "# 2. Define predictors and response for testing set\n",
        "X_test = test_df[['wt', 'hp']]\n",
        "y_test = test_df['mpg']\n",
        "\n",
        "# 3. Fit multiple linear regression model on training set\n",
        "reg_model = LinearRegression()\n",
        "reg_model.fit(X_train, y_train)\n",
        "\n",
        "# 4. Make predictions on testing set using the fitted model\n",
        "y_pred = reg_model.predict(X_test)\n",
        "\n",
        "# 5. Calculate mean squared error for training set and testing set\n",
        "train_mse = mean_squared_error(y_train, reg_model.predict(X_train))\n",
        "test_mse = mean_squared_error(y_test, y_pred)\n",
        "\n",
        "print(\"Training set MSE (two predictors): \", train_mse)\n",
        "print(\"Testing set MSE (two predictors): \", test_mse)\n"
      ]
    },
    {
      "attachments": {},
      "cell_type": "markdown",
      "metadata": {},
      "source": [
        "To fit a multiple linear regression model with three predictors (weight, horsepower, and displacement), we can modify the code as follows:"
      ]
    },
    {
      "cell_type": "code",
      "execution_count": 14,
      "metadata": {},
      "outputs": [
        {
          "name": "stdout",
          "output_type": "stream",
          "text": [
            "Training set MSE (three predictors):  5.676182202686968\n",
            "Testing set MSE (three predictors):  8.445676134890649\n"
          ]
        }
      ],
      "source": [
        "# 1. Define predictors and response for training set\n",
        "X_train = train_df[['wt', 'hp', 'disp']]\n",
        "y_train = train_df['mpg']\n",
        "\n",
        "# 2. Define predictors and response for testing set\n",
        "X_test = test_df[['wt', 'hp', 'disp']]\n",
        "y_test = test_df['mpg']\n",
        "\n",
        "# 3. Fit multiple linear regression model on training set\n",
        "reg_model = LinearRegression()\n",
        "reg_model.fit(X_train, y_train)\n",
        "\n",
        "# 4. Make predictions on testing set using the fitted model\n",
        "y_pred = reg_model.predict(X_test)\n",
        "\n",
        "# 5. Calculate mean squared error for training set and testing set\n",
        "train_mse = mean_squared_error(y_train, reg_model.predict(X_train))\n",
        "test_mse = mean_squared_error(y_test, y_pred)\n",
        "\n",
        "print(\"Training set MSE (three predictors): \", train_mse)\n",
        "print(\"Testing set MSE (three predictors): \", test_mse)\n"
      ]
    },
    {
      "cell_type": "markdown",
      "metadata": {
        "id": "wP0tO2jQDkey"
      },
      "source": [
        "## Part 5: Interpreting results\n",
        "\n",
        "## Tell a story with your results!!!\n"
      ]
    },
    {
      "attachments": {},
      "cell_type": "markdown",
      "metadata": {},
      "source": [
        "After examining the dataset and building linear regression models, it was discovered that weight is a strong predictor of mpg. Heavier cars generally require more fuel to operate, resulting in lower mpg. The accuracy of the model improved when adding horsepower as another predictor, as more powerful engines also require more fuel to operate. Using both weight and horsepower as predictors resulted in a more accurate model for predicting mpg. The mean squared error for the testing set decreased when compared to the simple linear regression model.\n",
        "\n",
        "Furthermore, when an additional predictor, displacement, was added to the model, there was a slight improvement in the negative relationship between mpg and all three predictors. However, the mean squared error for the testing set did not decrease significantly, suggesting that including all three predictors did not improve the model much beyond just using weight and horsepower as predictors.\n",
        "\n",
        "Overall, the analysis indicated that weight, horsepower, and displacement are all important predictors for mpg in cars."
      ]
    }
  ],
  "metadata": {
    "colab": {
      "collapsed_sections": [],
      "name": "CS465_Prog_Assgt_1_Linear_Regression.ipynb",
      "provenance": []
    },
    "kernelspec": {
      "display_name": "Python 3",
      "name": "python3"
    },
    "language_info": {
      "codemirror_mode": {
        "name": "ipython",
        "version": 3
      },
      "file_extension": ".py",
      "mimetype": "text/x-python",
      "name": "python",
      "nbconvert_exporter": "python",
      "pygments_lexer": "ipython3",
      "version": "3.11.1"
    }
  },
  "nbformat": 4,
  "nbformat_minor": 0
}
